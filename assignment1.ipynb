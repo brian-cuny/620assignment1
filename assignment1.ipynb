{
 "cells": [
  {
   "cell_type": "heading",
   "metadata": {
    "collapsed": true
   },
   "level": 1,
   "source": [
    ""
   ]
  },
  {
   "cell_type": "markdown",
   "metadata": {},
   "source": [
    "<h1>Assignment: \"Hello, Graph World\"</h1>\n",
    "<h2>By Brian Weinfeld</h2>"
   ]
  },
  {
   "cell_type": "code",
   "execution_count": 8,
   "metadata": {},
   "outputs": [],
   "source": [
    "from neo4j.v1 import GraphDatabase\n",
    "from igraph import Graph as iGraph\n",
    "from igraph import plot\n",
    "import csv"
   ]
  },
  {
   "cell_type": "markdown",
   "metadata": {},
   "source": [
    "<div class='well'>For this assignment I created a csv file with a series of relationships. I used Python to read it into a Neo4j graph and then converted the graph to iGraph to display</div>"
   ]
  },
  {
   "cell_type": "code",
   "execution_count": 1,
   "metadata": {},
   "outputs": [],
   "source": [
    "class BeachHead(object):\n",
    "\n",
    "    def __init__(self, uri, user, password):\n",
    "        self._driver = GraphDatabase.driver(uri, auth=(user, password))\n",
    "\n",
    "    def close(self):\n",
    "        self._driver.close()\n",
    "\n",
    "    def delete(self):\n",
    "        with self._driver.session() as session:\n",
    "            session.run('MATCH (n) DETACH DELETE n')\n",
    "            session.run('CREATE CONSTRAINT ON (p:Person) ASSERT p.name IS UNIQUE')\n",
    "\n",
    "    def add_person(self, name):\n",
    "        with self._driver.session() as session:\n",
    "            session.run(\"MERGE (:Person {name: $name})\", name=name)\n",
    "\n",
    "    def add_relationship(self, a, b):\n",
    "        with self._driver.session() as session:\n",
    "            session.run('MERGE (a:Person {name: $a})'\n",
    "                        'MERGE (b:Person {name: $b})'\n",
    "                        'CREATE (a)-[:KNOWS]->(b)'\n",
    "                        'CREATE (b)-[:KNOWS]->(a)', a=a, b=b)\n",
    "\n",
    "    def query(self, query):\n",
    "        with self._driver.session() as session:\n",
    "            return session.run(query)\n"
   ]
  },
  {
   "cell_type": "markdown",
   "metadata": {},
   "source": [
    "<p>The above code is a basic driver for Neo4j</p>"
   ]
  },
  {
   "cell_type": "code",
   "execution_count": 5,
   "metadata": {},
   "outputs": [
    {
     "name": "stdout",
     "output_type": "stream",
     "text": [
      "Andre KNOWS Beverly\nAndre KNOWS Carol\nAndre KNOWS Diane\nBeverly KNOWS Diane\nBeverly KNOWS Ed\nBeverly KNOWS Garth\nCarol KNOWS Diane\nCarol KNOWS Frank\nDiane KNOWS Frank\nFrank KNOWS Garth\nFrank KNOWS Heather\nHeather KNOWS Ike\nIke KNOWS Jane\n"
     ]
    }
   ],
   "source": [
    "if __name__ == '__main__':\n",
    "    neo = BeachHead('bolt://localhost:7687', 'neo4j', 'cosmic joke')\n",
    "    neo.delete()\n",
    "\n",
    "    with open('relationships.csv', newline='') as csvfile:\n",
    "        for r in csv.reader(csvfile, delimiter=','):\n",
    "            neo.add_relationship(r[0], r[1])\n",
    "\n",
    "    results = [(n1, n2) for n1, n2 in neo.query('MATCH (p:Person)-[:KNOWS]->(p2:Person) '\n",
    "                                                'WHERE p.name < p2.name '\n",
    "                                                'RETURN p.name, p2.name '\n",
    "                                                'ORDER BY p.name, p2.name'\n",
    "                                                )\n",
    "               ]\n",
    "\n",
    "    for n1, n2 in results:\n",
    "        print(f'{n1} KNOWS {n2}')"
   ]
  },
  {
   "cell_type": "code",
   "execution_count": 7,
   "metadata": {},
   "outputs": [
    {
     "ename": "AttributeError",
     "evalue": "'bytes' object has no attribute 'encode'",
     "traceback": [
      "\u001b[0;31m---------------------------------------------------------------------------\u001b[0m",
      "\u001b[0;31mAttributeError\u001b[0m                            Traceback (most recent call last)",
      "\u001b[0;32m~/anaconda3/lib/python3.6/site-packages/IPython/core/formatters.py\u001b[0m in \u001b[0;36m__call__\u001b[0;34m(self, obj)\u001b[0m\n\u001b[1;32m    343\u001b[0m             \u001b[0mmethod\u001b[0m \u001b[0;34m=\u001b[0m \u001b[0mget_real_method\u001b[0m\u001b[0;34m(\u001b[0m\u001b[0mobj\u001b[0m\u001b[0;34m,\u001b[0m \u001b[0mself\u001b[0m\u001b[0;34m.\u001b[0m\u001b[0mprint_method\u001b[0m\u001b[0;34m)\u001b[0m\u001b[0;34m\u001b[0m\u001b[0m\n\u001b[1;32m    344\u001b[0m             \u001b[0;32mif\u001b[0m \u001b[0mmethod\u001b[0m \u001b[0;32mis\u001b[0m \u001b[0;32mnot\u001b[0m \u001b[0;32mNone\u001b[0m\u001b[0;34m:\u001b[0m\u001b[0;34m\u001b[0m\u001b[0m\n\u001b[0;32m--> 345\u001b[0;31m                 \u001b[0;32mreturn\u001b[0m \u001b[0mmethod\u001b[0m\u001b[0;34m(\u001b[0m\u001b[0;34m)\u001b[0m\u001b[0;34m\u001b[0m\u001b[0m\n\u001b[0m\u001b[1;32m    346\u001b[0m             \u001b[0;32mreturn\u001b[0m \u001b[0;32mNone\u001b[0m\u001b[0;34m\u001b[0m\u001b[0m\n\u001b[1;32m    347\u001b[0m         \u001b[0;32melse\u001b[0m\u001b[0;34m:\u001b[0m\u001b[0;34m\u001b[0m\u001b[0m\n",
      "\u001b[0;32m~/anaconda3/lib/python3.6/site-packages/igraph/drawing/__init__.py\u001b[0m in \u001b[0;36m_repr_svg_\u001b[0;34m(self)\u001b[0m\n\u001b[1;32m    352\u001b[0m         \u001b[0msurface\u001b[0m\u001b[0;34m.\u001b[0m\u001b[0mfinish\u001b[0m\u001b[0;34m(\u001b[0m\u001b[0;34m)\u001b[0m\u001b[0;34m\u001b[0m\u001b[0m\n\u001b[1;32m    353\u001b[0m         \u001b[0;31m# Return the raw SVG representation\u001b[0m\u001b[0;34m\u001b[0m\u001b[0;34m\u001b[0m\u001b[0m\n\u001b[0;32m--> 354\u001b[0;31m         \u001b[0;32mreturn\u001b[0m \u001b[0mio\u001b[0m\u001b[0;34m.\u001b[0m\u001b[0mgetvalue\u001b[0m\u001b[0;34m(\u001b[0m\u001b[0;34m)\u001b[0m\u001b[0;34m.\u001b[0m\u001b[0mencode\u001b[0m\u001b[0;34m(\u001b[0m\u001b[0;34m\"utf-8\"\u001b[0m\u001b[0;34m)\u001b[0m\u001b[0;34m\u001b[0m\u001b[0m\n\u001b[0m\u001b[1;32m    355\u001b[0m \u001b[0;34m\u001b[0m\u001b[0m\n\u001b[1;32m    356\u001b[0m     \u001b[0;34m@\u001b[0m\u001b[0mproperty\u001b[0m\u001b[0;34m\u001b[0m\u001b[0m\n",
      "\u001b[0;31mAttributeError\u001b[0m: 'bytes' object has no attribute 'encode'"
     ],
     "output_type": "error"
    },
    {
     "data": {
      "text/plain": [
       "<igraph.drawing.Plot at 0x7f71c2768198>"
      ]
     },
     "execution_count": 7,
     "metadata": {},
     "output_type": "execute_result"
    }
   ],
   "source": [
    "ig = iGraph.TupleList(results, vertex_name_attr='label')\n",
    "plot(ig)"
   ]
  },
  {
   "cell_type": "code",
   "execution_count": null,
   "metadata": {},
   "outputs": [],
   "source": []
  }
 ],
 "metadata": {
  "kernelspec": {
   "display_name": "Python 2",
   "language": "python",
   "name": "python2"
  },
  "language_info": {
   "codemirror_mode": {
    "name": "ipython",
    "version": 2
   },
   "file_extension": ".py",
   "mimetype": "text/x-python",
   "name": "python",
   "nbconvert_exporter": "python",
   "pygments_lexer": "ipython2",
   "version": "2.7.6"
  }
 },
 "nbformat": 4,
 "nbformat_minor": 0
}
